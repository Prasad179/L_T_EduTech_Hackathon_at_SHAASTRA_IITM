{
  "cells": [
    {
      "cell_type": "markdown",
      "source": [
        "# **L&T EduTech Hackathon at SHAASTRA IITM**\n",
        "\n",
        "### **Problem Statement 1:**\n",
        "Description: Concrete cracking is a major issue in Bridge Engineering. Detection of cracks facilitates the design, construction and maintenance of bridges effectively.\n",
        "\n",
        "###**Requirement Specification:**\n",
        "Develop a suitable Deep Learning framework which can detect the crack in the image from the dataset\n",
        "\n",
        "### **Judging Metrics:** \n",
        "Provide Precision, Recall and F1 score as Judging metrics\n",
        "\n",
        "###**Dataset Description:**\n",
        "There are 600 iamges which contains 300 images of cracked surface and 300 of non-cracked images. In the test and validation dataset there are 200 images in each dataset."
      ],
      "metadata": {
        "id": "nbW4AT4LcfA2"
      },
      "id": "nbW4AT4LcfA2"
    },
    {
      "cell_type": "code",
      "execution_count": 35,
      "metadata": {
        "colab": {
          "base_uri": "https://localhost:8080/"
        },
        "id": "a9370e24",
        "outputId": "fe7c1f5e-5f67-458f-fe49-3c900cf909cc"
      },
      "outputs": [
        {
          "output_type": "stream",
          "name": "stdout",
          "text": [
            "Looking in indexes: https://pypi.org/simple, https://us-python.pkg.dev/colab-wheels/public/simple/\n",
            "Requirement already satisfied: opendatasets in /usr/local/lib/python3.8/dist-packages (0.1.22)\n",
            "Requirement already satisfied: tqdm in /usr/local/lib/python3.8/dist-packages (from opendatasets) (4.64.1)\n",
            "Requirement already satisfied: click in /usr/local/lib/python3.8/dist-packages (from opendatasets) (7.1.2)\n",
            "Requirement already satisfied: kaggle in /usr/local/lib/python3.8/dist-packages (from opendatasets) (1.5.12)\n",
            "Requirement already satisfied: certifi in /usr/local/lib/python3.8/dist-packages (from kaggle->opendatasets) (2022.12.7)\n",
            "Requirement already satisfied: python-slugify in /usr/local/lib/python3.8/dist-packages (from kaggle->opendatasets) (7.0.0)\n",
            "Requirement already satisfied: requests in /usr/local/lib/python3.8/dist-packages (from kaggle->opendatasets) (2.25.1)\n",
            "Requirement already satisfied: urllib3 in /usr/local/lib/python3.8/dist-packages (from kaggle->opendatasets) (1.24.3)\n",
            "Requirement already satisfied: six>=1.10 in /usr/local/lib/python3.8/dist-packages (from kaggle->opendatasets) (1.15.0)\n",
            "Requirement already satisfied: python-dateutil in /usr/local/lib/python3.8/dist-packages (from kaggle->opendatasets) (2.8.2)\n",
            "Requirement already satisfied: text-unidecode>=1.3 in /usr/local/lib/python3.8/dist-packages (from python-slugify->kaggle->opendatasets) (1.3)\n",
            "Requirement already satisfied: chardet<5,>=3.0.2 in /usr/local/lib/python3.8/dist-packages (from requests->kaggle->opendatasets) (4.0.0)\n",
            "Requirement already satisfied: idna<3,>=2.5 in /usr/local/lib/python3.8/dist-packages (from requests->kaggle->opendatasets) (2.10)\n"
          ]
        }
      ],
      "source": [
        "import numpy as np\n",
        "import matplotlib.pyplot as plt\n",
        "import tensorflow as tf\n",
        "from tensorflow.keras.models import Sequential\n",
        "from tensorflow.keras.layers import Dense, Conv2D, Flatten, Dropout, MaxPooling2D\n",
        "from tensorflow.keras.preprocessing.image import ImageDataGenerator\n",
        "import glob\n",
        "import cv2\n",
        "from keras.callbacks import EarlyStopping\n",
        "from sklearn.metrics import confusion_matrix, ConfusionMatrixDisplay\n",
        "from sklearn.metrics import classification_report\n",
        "!pip install opendatasets\n",
        "import opendatasets as od"
      ],
      "id": "a9370e24"
    },
    {
      "cell_type": "code",
      "execution_count": 36,
      "metadata": {
        "colab": {
          "base_uri": "https://localhost:8080/"
        },
        "id": "BtxmsaY1MmsG",
        "outputId": "243a8013-eac0-44cb-c0a2-225f3171ea37"
      },
      "outputs": [
        {
          "output_type": "stream",
          "name": "stdout",
          "text": [
            "Skipping, found downloaded files in \"./surface-crack\" (use force=True to force download)\n"
          ]
        }
      ],
      "source": [
        "od.download('https://www.kaggle.com/datasets/xinzone/surface-crack')"
      ],
      "id": "BtxmsaY1MmsG"
    },
    {
      "cell_type": "code",
      "execution_count": 37,
      "metadata": {
        "colab": {
          "base_uri": "https://localhost:8080/"
        },
        "id": "a194d2cc",
        "outputId": "8911e924-b3ce-42c9-cb75-7c8d5e7edf70"
      },
      "outputs": [
        {
          "output_type": "stream",
          "name": "stdout",
          "text": [
            "(224, 224, 3)\n"
          ]
        }
      ],
      "source": [
        "# Set the image path\n",
        "img_path = r'/content/surface-crack/test/Positive/DJI_0677_10_16.jpg'\n",
        "# Read the image\n",
        "image = cv2.imread(img_path)\n",
        "print(image.shape)"
      ],
      "id": "a194d2cc"
    },
    {
      "cell_type": "code",
      "execution_count": 38,
      "metadata": {
        "id": "0cd96240"
      },
      "outputs": [],
      "source": [
        "IMG_SHAPE = (224,224,3)\n",
        "base_model = tf.keras.applications.MobileNetV2(input_shape=IMG_SHAPE,\n",
        "                                               include_top=False, \n",
        "                                               weights='imagenet')"
      ],
      "id": "0cd96240"
    },
    {
      "cell_type": "code",
      "execution_count": 39,
      "metadata": {
        "colab": {
          "base_uri": "https://localhost:8080/"
        },
        "id": "fa973012",
        "outputId": "2fb2168e-e88e-41f6-8445-bf4675cc825a"
      },
      "outputs": [
        {
          "output_type": "stream",
          "name": "stdout",
          "text": [
            "Found 600 images belonging to 2 classes.\n",
            "Found 200 images belonging to 2 classes.\n",
            "Found 200 images belonging to 2 classes.\n"
          ]
        }
      ],
      "source": [
        "batch_size=20         #Setting batch size\n",
        "train_dir = \"/content/surface-crack/train\"   #Setting training directory\n",
        "validation_dir = \"/content/surface-crack/valid\" #Setting validation directory\n",
        "test_dir = \"/content/surface-crack/test\" #Setting testing directory\n",
        "\n",
        "\n",
        "# All images will be rescaled between 0 to 1.\n",
        "train_datagen = ImageDataGenerator( rescale = 1.0/255. )\n",
        "val_datagen  = ImageDataGenerator( rescale = 1.0/255. )\n",
        "test_datagen  = ImageDataGenerator( rescale = 1.0/255. )\n",
        "# Flow training images in batches of 20 using train_datagen generator\n",
        "#Flow_from_directory function lets the classifier directly identify the labels from the name of the directories the image lies in\n",
        "train_generator=train_datagen.flow_from_directory(train_dir,\n",
        "                                                  batch_size=batch_size,\n",
        "                                                  class_mode='categorical',\n",
        "                                                  target_size=(224,224))\n",
        "\n",
        "validation_generator =  val_datagen.flow_from_directory(validation_dir,\n",
        "                                                         batch_size=batch_size,\n",
        "                                                         class_mode  = 'categorical',\n",
        "                                                         target_size=(224,224))\n",
        "\n",
        "test_generator =  test_datagen.flow_from_directory(test_dir,\n",
        "                                                         batch_size=batch_size,\n",
        "                                                         class_mode  = 'categorical',\n",
        "                                                         target_size=(224,224),\n",
        "                                                         shuffle = False\n",
        "                                                   )"
      ],
      "id": "fa973012"
    },
    {
      "cell_type": "code",
      "source": [
        "test_generator.class_indices"
      ],
      "metadata": {
        "colab": {
          "base_uri": "https://localhost:8080/"
        },
        "id": "bSJPbZWa87yy",
        "outputId": "777e8eb9-a142-46dc-ad69-798639446a72"
      },
      "id": "bSJPbZWa87yy",
      "execution_count": 40,
      "outputs": [
        {
          "output_type": "execute_result",
          "data": {
            "text/plain": [
              "{'Negative': 0, 'Positive': 1}"
            ]
          },
          "metadata": {},
          "execution_count": 40
        }
      ]
    },
    {
      "cell_type": "markdown",
      "metadata": {
        "id": "0YXArz1p1ene"
      },
      "source": [
        "## Fine tuning"
      ],
      "id": "0YXArz1p1ene"
    },
    {
      "cell_type": "code",
      "execution_count": 41,
      "metadata": {
        "colab": {
          "base_uri": "https://localhost:8080/"
        },
        "id": "db076f86",
        "outputId": "740ea29d-61e8-4273-d811-27879d2af927"
      },
      "outputs": [
        {
          "output_type": "stream",
          "name": "stdout",
          "text": [
            "Number of layers in the base model:  154\n"
          ]
        }
      ],
      "source": [
        "base_model.trainable = True\n",
        "# Let's take a look to see how many layers are in the base model\n",
        "print(\"Number of layers in the base model: \", len(base_model.layers))\n",
        "\n",
        "# Fine tune from this layer onwards\n",
        "fine_tune_at = 100\n",
        "\n",
        "# Freeze all the layers before the `fine_tune_at` layer\n",
        "for layer in base_model.layers[:fine_tune_at]:\n",
        "    layer.trainable =  False"
      ],
      "id": "db076f86"
    },
    {
      "cell_type": "code",
      "execution_count": 42,
      "metadata": {
        "id": "X0Ftd4aJ1uv1"
      },
      "outputs": [],
      "source": [
        "model1 = tf.keras.Sequential([\n",
        "  base_model,\n",
        "  Flatten(),\n",
        "  Dense(128, activation = 'relu'),\n",
        "  tf.keras.layers.Dense(2, activation='softmax')\n",
        "])"
      ],
      "id": "X0Ftd4aJ1uv1"
    },
    {
      "cell_type": "code",
      "execution_count": 43,
      "metadata": {
        "id": "7d0fe198"
      },
      "outputs": [],
      "source": [
        "model1.compile(loss='binary_crossentropy',\n",
        "              optimizer = tf.keras.optimizers.Adam(1e-5),\n",
        "              metrics=['accuracy'])"
      ],
      "id": "7d0fe198"
    },
    {
      "cell_type": "code",
      "execution_count": 44,
      "metadata": {
        "colab": {
          "base_uri": "https://localhost:8080/"
        },
        "id": "971868a1",
        "outputId": "85a110b2-c92c-49d2-c56f-5ca0a82dc483"
      },
      "outputs": [
        {
          "output_type": "stream",
          "name": "stdout",
          "text": [
            "Epoch 1/30\n",
            "30/30 - 6s - loss: 0.6132 - accuracy: 0.7417 - val_loss: 0.5230 - val_accuracy: 0.8000 - 6s/epoch - 217ms/step\n",
            "Epoch 2/30\n",
            "30/30 - 3s - loss: 0.1760 - accuracy: 0.9650 - val_loss: 0.3741 - val_accuracy: 0.8950 - 3s/epoch - 102ms/step\n",
            "Epoch 3/30\n",
            "30/30 - 4s - loss: 0.0886 - accuracy: 0.9833 - val_loss: 0.3211 - val_accuracy: 0.9100 - 4s/epoch - 146ms/step\n",
            "Epoch 4/30\n",
            "30/30 - 3s - loss: 0.0476 - accuracy: 0.9917 - val_loss: 0.3417 - val_accuracy: 0.8550 - 3s/epoch - 111ms/step\n",
            "Epoch 5/30\n",
            "30/30 - 2s - loss: 0.0287 - accuracy: 0.9983 - val_loss: 0.3055 - val_accuracy: 0.8900 - 2s/epoch - 65ms/step\n",
            "Epoch 6/30\n",
            "30/30 - 2s - loss: 0.0269 - accuracy: 0.9967 - val_loss: 0.2937 - val_accuracy: 0.8900 - 2s/epoch - 63ms/step\n",
            "Epoch 7/30\n",
            "30/30 - 2s - loss: 0.0316 - accuracy: 0.9967 - val_loss: 0.3207 - val_accuracy: 0.8750 - 2s/epoch - 64ms/step\n",
            "Epoch 8/30\n",
            "30/30 - 2s - loss: 0.0201 - accuracy: 0.9983 - val_loss: 0.2351 - val_accuracy: 0.9150 - 2s/epoch - 64ms/step\n",
            "Epoch 9/30\n",
            "30/30 - 2s - loss: 0.0136 - accuracy: 1.0000 - val_loss: 0.2631 - val_accuracy: 0.9000 - 2s/epoch - 64ms/step\n",
            "Epoch 10/30\n",
            "30/30 - 2s - loss: 0.0104 - accuracy: 1.0000 - val_loss: 0.3065 - val_accuracy: 0.8800 - 2s/epoch - 65ms/step\n",
            "Epoch 11/30\n",
            "30/30 - 2s - loss: 0.0088 - accuracy: 0.9983 - val_loss: 0.2057 - val_accuracy: 0.9250 - 2s/epoch - 65ms/step\n",
            "Epoch 12/30\n",
            "30/30 - 2s - loss: 0.0122 - accuracy: 1.0000 - val_loss: 0.1934 - val_accuracy: 0.9350 - 2s/epoch - 64ms/step\n",
            "Epoch 13/30\n",
            "30/30 - 2s - loss: 0.0065 - accuracy: 1.0000 - val_loss: 0.2151 - val_accuracy: 0.9250 - 2s/epoch - 64ms/step\n",
            "Epoch 14/30\n",
            "30/30 - 2s - loss: 0.0041 - accuracy: 1.0000 - val_loss: 0.1930 - val_accuracy: 0.9350 - 2s/epoch - 64ms/step\n",
            "Epoch 15/30\n",
            "30/30 - 2s - loss: 0.0066 - accuracy: 1.0000 - val_loss: 0.2720 - val_accuracy: 0.9050 - 2s/epoch - 64ms/step\n",
            "Epoch 16/30\n",
            "30/30 - 2s - loss: 0.0071 - accuracy: 0.9983 - val_loss: 0.1612 - val_accuracy: 0.9400 - 2s/epoch - 65ms/step\n",
            "Epoch 17/30\n",
            "30/30 - 2s - loss: 0.0044 - accuracy: 1.0000 - val_loss: 0.2109 - val_accuracy: 0.9350 - 2s/epoch - 64ms/step\n",
            "Epoch 18/30\n",
            "30/30 - 2s - loss: 0.0035 - accuracy: 1.0000 - val_loss: 0.1814 - val_accuracy: 0.9350 - 2s/epoch - 65ms/step\n",
            "Epoch 19/30\n",
            "30/30 - 2s - loss: 0.0040 - accuracy: 1.0000 - val_loss: 0.1566 - val_accuracy: 0.9450 - 2s/epoch - 65ms/step\n",
            "Epoch 20/30\n",
            "30/30 - 2s - loss: 0.0045 - accuracy: 1.0000 - val_loss: 0.1693 - val_accuracy: 0.9400 - 2s/epoch - 64ms/step\n",
            "Epoch 21/30\n",
            "30/30 - 2s - loss: 0.0020 - accuracy: 1.0000 - val_loss: 0.1951 - val_accuracy: 0.9300 - 2s/epoch - 64ms/step\n",
            "Epoch 22/30\n",
            "30/30 - 2s - loss: 0.0017 - accuracy: 1.0000 - val_loss: 0.1813 - val_accuracy: 0.9300 - 2s/epoch - 62ms/step\n",
            "Epoch 23/30\n",
            "30/30 - 2s - loss: 0.0030 - accuracy: 1.0000 - val_loss: 0.1385 - val_accuracy: 0.9500 - 2s/epoch - 63ms/step\n",
            "Epoch 24/30\n",
            "30/30 - 2s - loss: 0.0019 - accuracy: 1.0000 - val_loss: 0.1433 - val_accuracy: 0.9500 - 2s/epoch - 63ms/step\n",
            "Epoch 25/30\n",
            "30/30 - 2s - loss: 0.0018 - accuracy: 1.0000 - val_loss: 0.1539 - val_accuracy: 0.9400 - 2s/epoch - 65ms/step\n",
            "Epoch 26/30\n",
            "30/30 - 2s - loss: 0.0018 - accuracy: 1.0000 - val_loss: 0.1595 - val_accuracy: 0.9400 - 2s/epoch - 64ms/step\n",
            "Epoch 27/30\n",
            "30/30 - 2s - loss: 0.0023 - accuracy: 1.0000 - val_loss: 0.1430 - val_accuracy: 0.9400 - 2s/epoch - 63ms/step\n"
          ]
        }
      ],
      "source": [
        "history_fine = model1.fit(train_generator, \n",
        "                          steps_per_epoch = train_generator.n // batch_size,\n",
        "                          epochs=30,\n",
        "                          validation_data=validation_generator, \n",
        "                          validation_steps=validation_generator.n // batch_size,\n",
        "                          callbacks = EarlyStopping(patience=4),\n",
        "                          verbose = 2)"
      ],
      "id": "971868a1"
    },
    {
      "cell_type": "code",
      "execution_count": 45,
      "metadata": {
        "colab": {
          "base_uri": "https://localhost:8080/",
          "height": 585
        },
        "id": "39bae01b",
        "outputId": "104f5ea0-c1db-489a-c831-50a906c3187a"
      },
      "outputs": [
        {
          "output_type": "display_data",
          "data": {
            "text/plain": [
              "<Figure size 576x576 with 2 Axes>"
            ],
            "image/png": "[encoded data removed]"
          },
          "metadata": {
            "needs_background": "light"
          }
        }
      ],
      "source": [
        "# plotting the accuracy and loss results over epochs \n",
        "acc = history_fine.history['accuracy']\n",
        "val_acc = history_fine.history['val_accuracy']\n",
        "\n",
        "loss = history_fine.history['loss']\n",
        "val_loss = history_fine.history['val_loss']\n",
        "\n",
        "plt.figure(figsize=(8, 8))\n",
        "plt.subplot(2, 1, 1)\n",
        "plt.plot(acc, label='Training Accuracy')\n",
        "plt.plot(val_acc, label='Validation Accuracy')\n",
        "plt.legend(loc='lower right')\n",
        "plt.ylabel('Accuracy')\n",
        "plt.xlabel('Number of epochs')\n",
        "plt.ylim([min(plt.ylim()),1])\n",
        "plt.title('Training and Validation Accuracy')\n",
        "\n",
        "plt.subplot(2, 1, 2)\n",
        "plt.plot(loss, label='Training Loss')\n",
        "plt.plot(val_loss, label='Validation Loss')\n",
        "plt.legend(loc='upper right')\n",
        "plt.ylabel('Cross Entropy')\n",
        "plt.xlabel('Number of epochs')\n",
        "plt.ylim([0,max(plt.ylim())])\n",
        "plt.title('Training and Validation Loss')\n",
        "plt.tight_layout()\n",
        "plt.show()"
      ],
      "id": "39bae01b"
    },
    {
      "cell_type": "code",
      "execution_count": 46,
      "metadata": {
        "colab": {
          "base_uri": "https://localhost:8080/"
        },
        "id": "43845f1d",
        "outputId": "4b35f1a4-9b18-4cb3-d097-4151210eb0f5"
      },
      "outputs": [
        {
          "output_type": "stream",
          "name": "stdout",
          "text": [
            "10/10 [==============================] - 1s 41ms/step\n"
          ]
        }
      ],
      "source": [
        "#predict\n",
        "y_pred2=model1.predict(test_generator)\n",
        "y_pred2=np.argmax(y_pred2,axis=1)"
      ],
      "id": "43845f1d"
    },
    {
      "cell_type": "code",
      "execution_count": 47,
      "metadata": {
        "colab": {
          "base_uri": "https://localhost:8080/"
        },
        "id": "zZTVo_PZP4VY",
        "outputId": "1e22cb83-80d8-414f-e8d8-707942f95c24"
      },
      "outputs": [
        {
          "output_type": "stream",
          "name": "stdout",
          "text": [
            "[[100   0]\n",
            " [  3  97]]\n"
          ]
        }
      ],
      "source": [
        "consfusion_mat2 = confusion_matrix(test_generator.classes, y_pred2)\n",
        "print(consfusion_mat2)"
      ],
      "id": "zZTVo_PZP4VY"
    },
    {
      "cell_type": "code",
      "execution_count": 48,
      "metadata": {
        "colab": {
          "base_uri": "https://localhost:8080/"
        },
        "id": "UmYb92lpQIbe",
        "outputId": "9be5d696-89d1-4a6c-e2b5-93b87679f1e7"
      },
      "outputs": [
        {
          "output_type": "stream",
          "name": "stdout",
          "text": [
            "\n",
            "Report :\n",
            "                precision    recall  f1-score   support\n",
            "\n",
            "           0       0.97      1.00      0.99       100\n",
            "           1       1.00      0.97      0.98       100\n",
            "\n",
            "    accuracy                           0.98       200\n",
            "   macro avg       0.99      0.98      0.98       200\n",
            "weighted avg       0.99      0.98      0.98       200\n",
            "\n"
          ]
        }
      ],
      "source": [
        "print(\"\\nReport :\\n \",\n",
        "    classification_report(test_generator.classes, y_pred2))"
      ],
      "id": "UmYb92lpQIbe"
    }
  ],
  "metadata": {
    "accelerator": "GPU",
    "colab": {
      "provenance": []
    },
    "gpuClass": "standard",
    "kernelspec": {
      "display_name": "Python 3 (ipykernel)",
      "language": "python",
      "name": "python3"
    },
    "language_info": {
      "codemirror_mode": {
        "name": "ipython",
        "version": 3
      },
      "file_extension": ".py",
      "mimetype": "text/x-python",
      "name": "python",
      "nbconvert_exporter": "python",
      "pygments_lexer": "ipython3",
      "version": "3.9.12"
    }
  },
  "nbformat": 4,
  "nbformat_minor": 5
}